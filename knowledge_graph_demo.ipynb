{
 "cells": [
  {
   "cell_type": "code",
   "execution_count": 1,
   "metadata": {
    "collapsed": true
   },
   "outputs": [],
   "source": [
    "#this function inserts a node and its reciprocal connections into a knowledge graph\n",
    "def add_node(knowledge_graph, title, other_nodes, probabilities): #add a node with defined connections to a knowledge graph.\n",
    "    knowledge_graph[title]=[str(other_nodes[x]) + '_' + str(probabilities[x]) for x in range(len(other_nodes))]\n",
    "    for x in range(len(other_nodes)): #add the reciprocal relationships in the other nodes\n",
    "        knowledge_graph[other_nodes[x]].append(str(title) + '_' + probabilities[x])"
   ]
  },
  {
   "cell_type": "code",
   "execution_count": 6,
   "metadata": {
    "collapsed": true
   },
   "outputs": [],
   "source": [
    "#this function makes sure that all relationships are reciprocal\n",
    "def equalize_knowledge_graph(knowledge_graph): #take in the knowledge graph, it should be a dict\n",
    "    for x in list(knowledge_graph.keys()): #look at all the key values, we want to go through each one\n",
    "        for y in knowledge_graph[x]: #now, for each key, look at each relationship it has defined\n",
    "            title = y[:-3]   #everything but the last 3 values in the string is the name of the node\n",
    "            probability = y[-2:]   #the last two digits define the connection probability\n",
    "            if title not in list(knowledge_graph.keys()):  #if it's connected to something that doesn't exist\n",
    "                knowledge_graph[title]=[]     #make a node for it\n",
    "            if str(x)+'_'+str(probability) not in knowledge_graph[title]:   #if that reciprocoal relationship does not exist\n",
    "                knowledge_graph[title].append(str(x)+'_'+str(probability))   #create it"
   ]
  },
  {
   "cell_type": "code",
   "execution_count": 3,
   "metadata": {
    "collapsed": true
   },
   "outputs": [],
   "source": [
    "#a dummy starter knowledge graph\n",
    "KG = {'Inflation': ['Unemployment_.8', 'XYZ_stock_.4'], 'Unemployment': ['Inflation_.8', 'XYZ_stock_.6']}"
   ]
  },
  {
   "cell_type": "code",
   "execution_count": 4,
   "metadata": {},
   "outputs": [
    {
     "data": {
      "text/plain": [
       "{'Inflation': ['Unemployment_.8', 'XYZ_stock_.4'],\n",
       " 'Unemployment': ['Inflation_.8', 'XYZ_stock_.6']}"
      ]
     },
     "execution_count": 4,
     "metadata": {},
     "output_type": "execute_result"
    }
   ],
   "source": [
    "KG"
   ]
  },
  {
   "cell_type": "code",
   "execution_count": 7,
   "metadata": {},
   "outputs": [],
   "source": [
    "#equalize the starter graph\n",
    "equalize_knowledge_graph(KG)"
   ]
  },
  {
   "cell_type": "code",
   "execution_count": 8,
   "metadata": {},
   "outputs": [
    {
     "data": {
      "text/plain": [
       "{'Inflation': ['Unemployment_.8', 'XYZ_stock_.4'],\n",
       " 'Unemployment': ['Inflation_.8', 'XYZ_stock_.6'],\n",
       " 'XYZ_stock': ['Inflation_.4', 'Unemployment_.6']}"
      ]
     },
     "execution_count": 8,
     "metadata": {},
     "output_type": "execute_result"
    }
   ],
   "source": [
    "KG"
   ]
  },
  {
   "cell_type": "code",
   "execution_count": 9,
   "metadata": {
    "collapsed": true
   },
   "outputs": [],
   "source": [
    "#add a node\n",
    "add_node(KG, 'GDP', ['Inflation', 'Unemployment'], ['.7', '.3'])"
   ]
  },
  {
   "cell_type": "code",
   "execution_count": 10,
   "metadata": {},
   "outputs": [
    {
     "data": {
      "text/plain": [
       "{'GDP': ['Inflation_.7', 'Unemployment_.3'],\n",
       " 'Inflation': ['Unemployment_.8', 'XYZ_stock_.4', 'GDP_.7'],\n",
       " 'Unemployment': ['Inflation_.8', 'XYZ_stock_.6', 'GDP_.3'],\n",
       " 'XYZ_stock': ['Inflation_.4', 'Unemployment_.6']}"
      ]
     },
     "execution_count": 10,
     "metadata": {},
     "output_type": "execute_result"
    }
   ],
   "source": [
    "KG"
   ]
  },
  {
   "cell_type": "code",
   "execution_count": null,
   "metadata": {
    "collapsed": true
   },
   "outputs": [],
   "source": []
  }
 ],
 "metadata": {
  "kernelspec": {
   "display_name": "Python 3",
   "language": "python",
   "name": "python3"
  },
  "language_info": {
   "codemirror_mode": {
    "name": "ipython",
    "version": 3
   },
   "file_extension": ".py",
   "mimetype": "text/x-python",
   "name": "python",
   "nbconvert_exporter": "python",
   "pygments_lexer": "ipython3",
   "version": "3.6.3"
  }
 },
 "nbformat": 4,
 "nbformat_minor": 2
}
